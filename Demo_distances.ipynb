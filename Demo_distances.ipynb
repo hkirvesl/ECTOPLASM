{
 "cells": [
  {
   "cell_type": "code",
   "execution_count": 1,
   "id": "e4cfeb4d-a897-41af-9444-596321fc8cc5",
   "metadata": {},
   "outputs": [
    {
     "name": "stderr",
     "output_type": "stream",
     "text": [
      "/home/hklahti/Documents/ect/code/repo/ECTOPLASM/polygon_ECT.py:300: SyntaxWarning: invalid escape sequence '\\i'\n",
      "  '''\n"
     ]
    }
   ],
   "source": [
    "import polygon_ECT as poly\n",
    "from shape_reader import ShapeReader"
   ]
  },
  {
   "cell_type": "code",
   "execution_count": 2,
   "id": "783b8c1d-a2e7-4532-a423-9382cc6263ac",
   "metadata": {},
   "outputs": [],
   "source": [
    "# Read in shapes\n",
    "s1=ShapeReader.shape_from_file('data/irregular_octahedron2.off',prepare=True)\n",
    "s2=ShapeReader.shape_from_file('data/irregular_octahedron.off',prepare=True)"
   ]
  },
  {
   "cell_type": "code",
   "execution_count": 3,
   "id": "e2581c77-40ee-4362-9d53-062522df71d5",
   "metadata": {},
   "outputs": [],
   "source": [
    "ECT1=poly.return_ECT(s1) #Compute the proto-transforms\n",
    "ECT2=poly.return_ECT(s2)"
   ]
  },
  {
   "cell_type": "code",
   "execution_count": 4,
   "id": "6ceea4b1-a381-4f8c-b51f-238f6ee6bf50",
   "metadata": {},
   "outputs": [],
   "source": [
    "d11=poly.ECT_distance_s(ECT1) # The self-inner product\n",
    "d22=poly.ECT_distance_s(ECT2) \n",
    "d12=poly.ECT_distance_d(ECT1,ECT2) # The cross term"
   ]
  },
  {
   "cell_type": "code",
   "execution_count": 5,
   "id": "786f6c34-e3be-48d7-a4ad-ddae598b2700",
   "metadata": {},
   "outputs": [
    {
     "data": {
      "text/plain": [
       "array([5.641969])"
      ]
     },
     "execution_count": 5,
     "metadata": {},
     "output_type": "execute_result"
    }
   ],
   "source": [
    "d11+d22-2*d12 # Squared distance"
   ]
  },
  {
   "cell_type": "code",
   "execution_count": 24,
   "id": "e5ccf3c5-0a5d-457c-853d-976e48faa6b7",
   "metadata": {},
   "outputs": [],
   "source": [
    "from numpy import genfromtxt\n",
    "import numpy as np\n",
    "dirs = genfromtxt('directions326.csv', delimiter=',')\n",
    "n=1000\n",
    "heights=np.linspace(-1,1,n)\n",
    "def ECT_matrix(shape,directions,heights):\n",
    "    n=len(heights)\n",
    "    m=len(dirs)\n",
    "    matrix=np.zeros([n,m])\n",
    "    for i in range(n):\n",
    "        for j in range(m):\n",
    "            matrix[i,j]=shape.compute_discrete_ECT(directions[j],heights[i])\n",
    "    return(matrix)"
   ]
  },
  {
   "cell_type": "code",
   "execution_count": 25,
   "id": "498e325c-58f6-470a-bfe8-8dcef5266e63",
   "metadata": {},
   "outputs": [],
   "source": [
    "s1.prepare_for_discrete_ECT()\n",
    "s2.prepare_for_discrete_ECT()\n",
    "ect1=ECT_matrix(s1,dirs,heights)\n",
    "ect2=ECT_matrix(s2,dirs,heights)"
   ]
  },
  {
   "cell_type": "code",
   "execution_count": 26,
   "id": "511eb66e-b526-450f-9ba6-a924c0e0b955",
   "metadata": {},
   "outputs": [
    {
     "data": {
      "text/plain": [
       "5.722555570323022"
      ]
     },
     "execution_count": 26,
     "metadata": {},
     "output_type": "execute_result"
    }
   ],
   "source": [
    "np.sum((ect1-ect2)**2)/(n*len(dirs))*math.pi*8 # Squared distance"
   ]
  },
  {
   "cell_type": "code",
   "execution_count": 27,
   "id": "2c801715-26d9-4232-8b89-0b6ea153b2ca",
   "metadata": {},
   "outputs": [
    {
     "data": {
      "text/plain": [
       "array([38.74989464])"
      ]
     },
     "execution_count": 27,
     "metadata": {},
     "output_type": "execute_result"
    }
   ],
   "source": [
    "d11"
   ]
  },
  {
   "cell_type": "code",
   "execution_count": 29,
   "id": "71efa217-13f2-4fd8-a9c8-c4aa1d924b4b",
   "metadata": {},
   "outputs": [
    {
     "data": {
      "text/plain": [
       "38.70519243520872"
      ]
     },
     "execution_count": 29,
     "metadata": {},
     "output_type": "execute_result"
    }
   ],
   "source": [
    "np.sum(ect1**2)/(n*len(dirs))*math.pi*8"
   ]
  },
  {
   "cell_type": "code",
   "execution_count": 30,
   "id": "ccea24c0-0034-4bb4-8221-07734ae03111",
   "metadata": {},
   "outputs": [
    {
     "data": {
      "text/plain": [
       "array([38.74989466])"
      ]
     },
     "execution_count": 30,
     "metadata": {},
     "output_type": "execute_result"
    }
   ],
   "source": [
    "d22"
   ]
  },
  {
   "cell_type": "code",
   "execution_count": 31,
   "id": "d6105814-1f1f-44e0-b704-9ab8f93073aa",
   "metadata": {},
   "outputs": [
    {
     "data": {
      "text/plain": [
       "38.70519243520872"
      ]
     },
     "execution_count": 31,
     "metadata": {},
     "output_type": "execute_result"
    }
   ],
   "source": [
    "np.sum(ect2**2)/(n*len(dirs))*math.pi*8"
   ]
  },
  {
   "cell_type": "code",
   "execution_count": null,
   "id": "f12460c3-b4dc-4421-ba7e-e3c73a1590f8",
   "metadata": {},
   "outputs": [],
   "source": []
  }
 ],
 "metadata": {
  "kernelspec": {
   "display_name": "Python 3 (ipykernel)",
   "language": "python",
   "name": "python3"
  },
  "language_info": {
   "codemirror_mode": {
    "name": "ipython",
    "version": 3
   },
   "file_extension": ".py",
   "mimetype": "text/x-python",
   "name": "python",
   "nbconvert_exporter": "python",
   "pygments_lexer": "ipython3",
   "version": "3.12.7"
  }
 },
 "nbformat": 4,
 "nbformat_minor": 5
}
