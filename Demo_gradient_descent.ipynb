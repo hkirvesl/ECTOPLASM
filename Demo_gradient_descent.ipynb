{
 "cells": [
  {
   "cell_type": "code",
   "execution_count": null,
   "id": "9af4df32-5149-446e-a3dd-df8eb43a1f6b",
   "metadata": {},
   "outputs": [],
   "source": [
    "import torch_ECT as poly\n",
    "import numpy as np\n",
    "from shape_reader import ShapeReader\n",
    "import torch\n",
    "# Read in shapes\n",
    "s1=ShapeReader.shape_from_file('data/polyhedron.off',prepare=True)\n",
    "s2=ShapeReader.shape_from_file('data/polyhedron.off',prepare=False)"
   ]
  },
  {
   "cell_type": "code",
   "execution_count": null,
   "id": "feb9be03-103b-48d3-b6ed-f0ed18a7372d",
   "metadata": {},
   "outputs": [],
   "source": [
    "#Rotate one of the shapes\n",
    "import polygon_ECT as polyx\n",
    "from scipy.spatial.transform import Rotation as R\n",
    "tmp=R.random(random_state=100)\n",
    "rotmatrix=tmp.as_matrix()\n",
    "s2.V=np.matmul(s2.V,rotmatrix)\n",
    "s2.prepare()"
   ]
  },
  {
   "cell_type": "code",
   "execution_count": null,
   "id": "6466941c-df08-4056-861d-84ec0b4b5a1f",
   "metadata": {},
   "outputs": [],
   "source": [
    "# Define some helper functions and metrics\n",
    "def torch_return_ECT(s1):\n",
    "    tmp=[]\n",
    "    for key in s1.clean_polygon_gains:\n",
    "        TMP=torch.tensor(s1.clean_polygon_gains[key])\n",
    "        for j in range(TMP.shape[0]):\n",
    "            megatmp=[]\n",
    "            megatmp.append(TMP[j])\n",
    "            megatmp.append(torch.tensor(s1.V[key,:], dtype=torch.float64))\n",
    "            polyg = s1.polygon_angles[key][s1.clean_polygons[key][j]]\n",
    "            if len(polyg) < 3: continue\n",
    "            polyg = poly.poly_orientation(polyg)\n",
    "            megatmp.append(torch.tensor(polyg, dtype=torch.float64))\n",
    "            megatmp.append(key)\n",
    "            N = poly.return_N(polyg)\n",
    "            megatmp.append(torch.tensor(N, dtype=torch.float64))\n",
    "            tmp.append(megatmp)\n",
    "    return tmp  \n",
    "ECT1=torch_return_ECT(s1)\n",
    "ECT2=torch_return_ECT(s2)\n",
    "def rotate_ECT(ECT,matrix):\n",
    "    ECT_tmp=list()\n",
    "    for i in range(len(ECT)):\n",
    "        tmp=list()\n",
    "        tmp.append(ECT[i][0])\n",
    "        tmp.append(torch.matmul(ECT[i][1],matrix))\n",
    "        tmp.append(torch.matmul(ECT[i][2],matrix))\n",
    "        tmp.append(ECT[i][3])\n",
    "        tmp.append(torch.matmul(ECT[i][4],matrix))\n",
    "        ECT_tmp.append(tmp)\n",
    "    return(ECT_tmp)\n",
    "def rotation_matrix2(v):\n",
    "    matrix=torch.zeros([3,3],dtype=torch.double)\n",
    "    matrix[0,:]=torch.stack((torch.cos(v[1])*torch.cos(v[2]),torch.sin(v[0])*torch.sin(v[1])*torch.cos(v[2])-torch.cos(v[0])*torch.sin(v[2]),torch.cos(v[0])*torch.sin(v[1])*torch.cos(v[2])+torch.sin(v[0])*torch.sin(v[2])))\n",
    "    matrix[1,:]=torch.stack((torch.cos(v[1])*torch.sin(v[2]),torch.sin(v[0])*torch.sin(v[1])*torch.sin(v[2])+torch.cos(v[0])*torch.cos(v[2]),torch.cos(v[0])*torch.sin(v[1])*torch.sin(v[2])-torch.sin(v[0])*torch.cos(v[2])))\n",
    "    matrix[2,:]=torch.stack((-torch.sin(v[1]),torch.sin(v[0])*torch.cos(v[1]),torch.cos(v[0])*torch.cos(v[1])))\n",
    "    return(matrix)\n",
    "def forward(x,angles):\n",
    "    matrix=rotation_matrix2(angles)\n",
    "    ECT1=rotate_ECT(x,matrix)\n",
    "    return(ECT1)\n",
    "def criterion(target, ECT):\n",
    "    return(poly.ECT_distance_d(target,ECT))\n",
    "target=ECT2\n",
    "data=ECT1"
   ]
  },
  {
   "cell_type": "code",
   "execution_count": null,
   "id": "2a380af7-42b4-4bb9-918e-f8ec1d585ed9",
   "metadata": {},
   "outputs": [],
   "source": [
    "import math\n",
    "def SO3_distance(angles):\n",
    "    matrix=R.from_euler('xyz',angles).as_matrix()\n",
    "    diff=np.matmul(rotmatrix,matrix.transpose())\n",
    "    upstairs=np.sum(np.diag(diff))-1\n",
    "    return(np.arccos(upstairs/2))"
   ]
  },
  {
   "cell_type": "code",
   "execution_count": null,
   "id": "e85cef0a-c518-49e4-a116-e23cf9ff6a8f",
   "metadata": {},
   "outputs": [],
   "source": [
    "# Perform gradient ascent\n",
    "print(tmp.as_euler('xyz')) # The truth\n",
    "vector=torch.tensor([0.0,0.0,0.0],requires_grad=True)\n",
    "lamda=1\n",
    "iter=10\n",
    "for i in range(iter):\n",
    "    Y_pred=forward(data,vector)\n",
    "    loss=criterion(Y_pred,target)\n",
    "    loss.backward()\n",
    "    vector.data=vector.data + lamda*vector.grad.data/torch.pow(torch.sum(torch.pow(vector.grad.data,2)),0.5)\n",
    "    print('Estimate:')\n",
    "    print(vector.detach().numpy())\n",
    "    print('Distance from truth:')\n",
    "    print(SO3_distance(vector.detach().numpy()))\n",
    "    vector.grad.data.zero_()"
   ]
  },
  {
   "cell_type": "code",
   "execution_count": null,
   "id": "88662fd5-f37a-4714-87aa-581b81a3bd37",
   "metadata": {},
   "outputs": [],
   "source": []
  }
 ],
 "metadata": {
  "kernelspec": {
   "display_name": "Python 3 (ipykernel)",
   "language": "python",
   "name": "python3"
  },
  "language_info": {
   "codemirror_mode": {
    "name": "ipython",
    "version": 3
   },
   "file_extension": ".py",
   "mimetype": "text/x-python",
   "name": "python",
   "nbconvert_exporter": "python",
   "pygments_lexer": "ipython3",
   "version": "3.12.7"
  }
 },
 "nbformat": 4,
 "nbformat_minor": 5
}
