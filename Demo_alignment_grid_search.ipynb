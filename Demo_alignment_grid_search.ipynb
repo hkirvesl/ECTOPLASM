{
 "cells": [
  {
   "cell_type": "code",
   "execution_count": null,
   "id": "7b3aa3f0-1c64-457a-8bda-17459765b6c7",
   "metadata": {},
   "outputs": [],
   "source": [
    "import polygon_ECT as poly\n",
    "import numpy as np\n",
    "from shape_reader import ShapeReader\n",
    "import torch\n",
    "# Read in shapes\n",
    "s1=ShapeReader.shape_from_file('data/polyhedron.off',prepare=True)\n",
    "s2=ShapeReader.shape_from_file('data/polyhedron.off',prepare=False)"
   ]
  },
  {
   "cell_type": "code",
   "execution_count": null,
   "id": "fc7956ff-4c1e-4e79-80b7-c5e816a599f1",
   "metadata": {},
   "outputs": [],
   "source": [
    "#Rotate one of the shapes\n",
    "import polygon_ECT as polyx\n",
    "from scipy.spatial.transform import Rotation as R\n",
    "tmp=R.random(random_state=100)\n",
    "rotmatrix=tmp.as_matrix()\n",
    "s2.V=np.matmul(s2.V,rotmatrix)\n",
    "s2.prepare()\n",
    "# Compute the proto-transforms:\n",
    "ECT1=poly.return_ECT(s1)\n",
    "ECT2=poly.return_ECT(s2)"
   ]
  },
  {
   "cell_type": "code",
   "execution_count": null,
   "id": "d1f8f685-1aee-4d89-9b56-2877f6b9ac12",
   "metadata": {},
   "outputs": [],
   "source": [
    "target_inner_product=poly.ECT_distance_s(ECT1)\n",
    "print(target_inner_product)"
   ]
  },
  {
   "cell_type": "code",
   "execution_count": null,
   "id": "4968dcf9-c18f-41eb-8120-c23cf280e94c",
   "metadata": {},
   "outputs": [],
   "source": [
    "import multiprocessing\n",
    "import itertools"
   ]
  },
  {
   "cell_type": "code",
   "execution_count": null,
   "id": "b1aa5f7c-6361-46a9-8be5-ccae12658081",
   "metadata": {},
   "outputs": [],
   "source": [
    "def rotate_ECT(ECT,matrix):\n",
    "    ECT_tmp=list()\n",
    "    for i in range(len(ECT)):\n",
    "        tmp=list()\n",
    "        tmp.append(ECT[i][0])\n",
    "        tmp.append(np.matmul(ECT[i][1],matrix))\n",
    "        tmp.append(np.matmul(ECT[i][2],matrix))\n",
    "        tmp.append(ECT[i][3])\n",
    "        tmp.append(np.matmul(ECT[i][4],matrix))\n",
    "        ECT_tmp.append(tmp)\n",
    "    return(ECT_tmp)\n",
    "def penalty(angles):\n",
    "    rotation=R.from_euler('xyz',angles).as_matrix()\n",
    "    ECT_tmp=rotate_ECT(ECT1,rotation)\n",
    "    distance=poly.ECT_distance_d(ECT_tmp,ECT2)\n",
    "    return(distance,angles)\n",
    "def SO3_distance(angles):\n",
    "    matrix=R.from_euler('xyz',angles).as_matrix()\n",
    "    diff=np.matmul(rotmatrix,matrix.transpose())\n",
    "    upstairs=np.sum(np.diag(diff))-1\n",
    "    return(np.arccos(upstairs/2))"
   ]
  },
  {
   "cell_type": "code",
   "execution_count": null,
   "id": "6963e909-39d0-4473-a66e-484048fcdfcf",
   "metadata": {},
   "outputs": [],
   "source": [
    "# Setup for initial alignment as described in the manuscript\n",
    "import math\n",
    "gridsize=8\n",
    "gridsize2=4\n",
    "angles1=np.linspace(0,2*math.pi,gridsize+1)[1:]\n",
    "angles2=np.linspace(0,2*math.pi,gridsize+1)[1:]\n",
    "angles3=np.linspace(0,math.pi,gridsize2+1)\n",
    "lista=[p for p in itertools.product(angles1,angles2,angles3)]"
   ]
  },
  {
   "cell_type": "code",
   "execution_count": null,
   "id": "03c5f3a4-e829-4f04-a444-db1e8ab9c07c",
   "metadata": {},
   "outputs": [],
   "source": [
    "# Parallelize (16 cor\n",
    "pool = multiprocessing.Pool(16)\n",
    "out1,out2 = zip(*pool.map(penalty, lista))"
   ]
  },
  {
   "cell_type": "code",
   "execution_count": null,
   "id": "a3baf66b-fa2d-44f3-a36d-352084aa7ce9",
   "metadata": {},
   "outputs": [],
   "source": [
    "# Subsequent iterations\n",
    "iters=10\n",
    "for i in range(iters):\n",
    "    results=np.array(out1).reshape(-1)\n",
    "    indices=np.argsort(results)\n",
    "    best_ones=indices[::-1] \n",
    "    print('Inner product:')\n",
    "    print(results[best_ones[0]])\n",
    "    print('Estimate:')\n",
    "    print(np.round(out2[best_ones[0]],5))\n",
    "    print('Distance to truth:')\n",
    "    print(np.round(SO3_distance(out2[best_ones[0]]),5))\n",
    "    stepsize=(angles1[1]-angles1[0])\n",
    "    la1=out2[best_ones[0]][0]-stepsize\n",
    "    ua1=out2[best_ones[0]][0]+stepsize\n",
    "    la2=out2[best_ones[0]][1]-stepsize\n",
    "    ua2=out2[best_ones[0]][1]+stepsize\n",
    "    la3=out2[best_ones[0]][2]-stepsize\n",
    "    ua3=out2[best_ones[0]][2]+stepsize\n",
    "    angles1=np.linspace(la1,ua1,4)\n",
    "    angles2=np.linspace(la2,ua2,4)\n",
    "    angles3=np.linspace(la3,ua3,4)\n",
    "    lista=[p for p in itertools.product(angles1,angles2,angles3)]\n",
    "    pool = multiprocessing.Pool(16)\n",
    "    out1,out2 = zip(*pool.map(penalty, lista))"
   ]
  }
 ],
 "metadata": {
  "kernelspec": {
   "display_name": "Python 3 (ipykernel)",
   "language": "python",
   "name": "python3"
  },
  "language_info": {
   "codemirror_mode": {
    "name": "ipython",
    "version": 3
   },
   "file_extension": ".py",
   "mimetype": "text/x-python",
   "name": "python",
   "nbconvert_exporter": "python",
   "pygments_lexer": "ipython3",
   "version": "3.12.7"
  }
 },
 "nbformat": 4,
 "nbformat_minor": 5
}
